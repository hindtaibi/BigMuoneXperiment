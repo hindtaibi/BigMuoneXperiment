{
 "cells": [
  {
   "cell_type": "code",
   "execution_count": 19,
   "metadata": {},
   "outputs": [],
   "source": [
    "import numpy as np\n",
    "import BigFunctions as BF\n",
    "from matplotlib import pyplot as plt\n",
    "from matplotlib.colors import LogNorm\n",
    "from scipy.optimize import curve_fit\n",
    "import uproot as ur\n",
    "%matplotlib tk"
   ]
  },
  {
   "cell_type": "code",
   "execution_count": 20,
   "metadata": {},
   "outputs": [
    {
     "name": "stdout",
     "output_type": "stream",
     "text": [
      "Duration of the data acquisition: 64.80661879629267 hours\n",
      "Duration of the data acquisition: 233303827666.6536 hours\n",
      "Number of events acquired: 48.889578 million\n",
      "Number of events acquired with PM2: 16.993348 million\n"
     ]
    }
   ],
   "source": [
    "#Reading the variables\n",
    "\n",
    "input_path = \"../data/bigdata_CFD_20092024_0001.root\"\n",
    "with ur.open(input_path) as file:\n",
    "    outTree = file[\"DataTree\"]\n",
    "    label = outTree[\"label\"].array(library = \"np\")\n",
    "    time = outTree[\"time\"].array(library = \"np\")*10**-6   #[µs]\n",
    "    nrj = outTree[\"nrj\"].array(library = \"np\")\n",
    "    pileup = outTree[\"pileup\"].array(library = \"np\")\n",
    "\n",
    "print(\"Duration of the data acquisition:\", max(time)*10**(-6)/3600, \"hours\")\n",
    "print(\"Duration of the data acquisition:\", max(time), \"hours\")\n",
    "print(\"Number of events acquired:\", len(label)/10**6, \"million\")\n",
    "print(\"Number of events acquired with PM2:\", len(label[label == 2])/10**6, \"million\")"
   ]
  },
  {
   "cell_type": "code",
   "execution_count": 21,
   "metadata": {},
   "outputs": [],
   "source": [
    "#To see if there was aproblem during the data acquisition\n",
    "#print(time[label == 1][-50:-1]*10**(-6)/3600)\n",
    "#print(time[label == 2][-100:-1]*10**(-6)/3600)"
   ]
  },
  {
   "cell_type": "code",
   "execution_count": 22,
   "metadata": {},
   "outputs": [
    {
     "name": "stdout",
     "output_type": "stream",
     "text": [
      "Number of events after correlation:        22.2967 million\n",
      "Dead time:                                 0.158599853515625 µs\n",
      "Total number of pileups:                   0\n",
      "Total number of pileups after correlation: 0\n",
      "Number of events acquired with PM2 after correlation: 11.14835 million\n"
     ]
    }
   ],
   "source": [
    "#Correlation\n",
    "\n",
    "corr_t = 10*10**-3   #Correlation window\n",
    "corr_mask = (time[1:]-time[:-1]<corr_t) & (label[1:] != label[:-1])\n",
    "\n",
    "correl_both = (np.insert(corr_mask,0,False))|(np.append(corr_mask,False))\n",
    "del(corr_mask)\n",
    "\n",
    "t = time[correl_both]\n",
    "l = label[correl_both]\n",
    "p = pileup[correl_both]\n",
    "e = nrj[correl_both]\n",
    "\n",
    "t1 = time[correl_both & (label==1)]\n",
    "t2 = time[correl_both & (label==2)]\n",
    "nrj1 = nrj[correl_both & (label==1)]\n",
    "nrj2 = nrj[correl_both & (label==2)]\n",
    "\n",
    "dt2 = t2[1:]-t2[:-1]\n",
    "dt1 = t1[1:]-t1[:-1]\n",
    "\n",
    "print(\"Number of events after correlation:       \", len(t)/10**6, \"million\")\n",
    "print(\"Dead time:                                \", min(dt2), \"µs\")\n",
    "print(\"Total number of pileups:                  \", len(pileup[pileup == True]))\n",
    "print(\"Total number of pileups after correlation:\", len(p[p == True]))\n",
    "print(\"Number of events acquired with PM2 after correlation:\", len(l[l == 2])/10**6, \"million\")"
   ]
  },
  {
   "cell_type": "code",
   "execution_count": 24,
   "metadata": {},
   "outputs": [
    {
     "name": "stdout",
     "output_type": "stream",
     "text": [
      "... After correlation only ...\n"
     ]
    }
   ],
   "source": [
    "#Energy Analysis\n",
    "\n",
    "#After correlation only\n",
    "print('... After correlation only ...')\n",
    "\n",
    "nrj_max = 300000\n",
    "\n",
    "fig, ax1 = plt.subplots(1, sharex=True)\n",
    "arr_1,xe_1,ye_1 = np.histogram2d(nrj1, nrj2, bins =(500,100))\n",
    "pcm_1 = ax1.pcolormesh(xe_1, ye_1,arr_1.T, cmap='rainbow', norm=LogNorm(vmin=arr_1.min()+1, vmax=arr_1.max()))\n",
    "ax1.set_xlabel('Energy 1 [Arbitrary Unit]')\n",
    "ax1.set_ylabel('Energy 2 [Arbitrary Unit]')\n",
    "ax1.set_title('2D Histogram\\nEnergy 2 as Function of Energy 1')\n",
    "ax1.grid()\n",
    "fig.colorbar(pcm_1, ax=ax1, orientation='vertical', fraction=.1)\n",
    "plt.show()\n",
    "\n",
    "plt.figure()\n",
    "plt.hist(nrj1[nrj1 < nrj_max], bins = 150, alpha = 0.5, label = \"PM1\")\n",
    "plt.hist(nrj2[nrj2 < nrj_max], bins = 150, alpha = 0.5, label = \"PM2\")\n",
    "plt.xlabel(\"Energy [Arbitrary Unit]\")\n",
    "plt.ylabel(\"Occurrences\")\n",
    "plt.grid()\n",
    "plt.legend()\n",
    "plt.show()"
   ]
  },
  {
   "cell_type": "code",
   "execution_count": 25,
   "metadata": {},
   "outputs": [
    {
     "name": "stdout",
     "output_type": "stream",
     "text": [
      "... After correlation and cut on dt ...\n",
      "Number of events acquired with PM2 after correlation and cut on dt: 0.141918 million\n"
     ]
    }
   ],
   "source": [
    "#After correlation and cut on dt\n",
    "print('... After correlation and cut on dt ...')\n",
    "\n",
    "dt_max = 20\n",
    "print(\"Number of events acquired with PM2 after correlation and cut on dt:\", len(dt2[dt2 < 20])/10**6, \"million\")\n",
    "\n",
    "#Muon and electron energy\n",
    "plt.figure()\n",
    "#plt.hist(nrj2[1:][(nrj2[1:]<nrj_max) & (dt2<dt_max)], bins=150, label=\"Second Event\", alpha = 0.5)\n",
    "#plt.hist(nrj2[:-1][(nrj2[:-1]<nrj_max)  & (dt2<dt_max)], bins=150, label=\"First Event\", alpha = 0.5)\n",
    "plt.hist(nrj2[(nrj2<nrj_max) & (np.append(dt2, np.nan)<dt_max)], bins=150, label=\"First Event\", alpha = 0.5)\n",
    "plt.hist(nrj2[(nrj2<nrj_max) & (np.insert(dt2, 0, np.nan)<dt_max)], bins=150, label=\"Second Event\", alpha = 0.5)\n",
    "plt.xlabel('Energy [Arbitraty Unit]')\n",
    "plt.ylabel('Occurrences')\n",
    "plt.legend()\n",
    "plt.grid()\n",
    "plt.show()\n",
    "\n",
    "#Electron as function of dt\n",
    "fig, ax1 = plt.subplots(1, sharex=True)\n",
    "arr_1,xe_1,ye_1 = np.histogram2d(dt2[(nrj2[1:]<nrj_max) & (dt2<dt_max)], \n",
    "                                 nrj2[1:][(nrj2[1:]<nrj_max) & (dt2<dt_max)],\n",
    "                                 bins =(500,100))\n",
    "pcm_1 = ax1.pcolormesh(xe_1, ye_1,arr_1.T, cmap='rainbow', norm=LogNorm(vmin=arr_1.min()+1, vmax=arr_1.max()))\n",
    "ax1.set_xlabel('$\\Delta t$ [µs]')\n",
    "ax1.set_ylabel('Second Event Energy\\n[Arbitrary Unit]')\n",
    "ax1.set_title('2D Histogram\\nSecond Event Energy as function of $\\Delta t$')\n",
    "ax1.grid()\n",
    "fig.colorbar(pcm_1, ax=ax1, orientation='vertical', fraction=.1)\n",
    "plt.show()\n",
    "\n",
    "#Muon as function of dt\n",
    "fig, ax1 = plt.subplots(1, sharex=True)\n",
    "arr_1,xe_1,ye_1 = np.histogram2d(dt2[(nrj2[:-1]<nrj_max) & (dt2<dt_max)], \n",
    "                                 nrj2[:-1][(nrj2[:-1]<nrj_max) & (dt2<dt_max)],\n",
    "                                 bins =(500,100))\n",
    "pcm_1 = ax1.pcolormesh(xe_1, ye_1,arr_1.T, cmap='rainbow', norm=LogNorm(vmin=arr_1.min()+1, vmax=arr_1.max()))\n",
    "ax1.set_xlabel('$\\Delta t$ [µs]')\n",
    "ax1.set_ylabel('First Event Energy\\n[Arbitrary Unit]')\n",
    "ax1.set_title('2D Histogram\\nFirst Event Energy as function of $\\Delta t$')\n",
    "ax1.grid()\n",
    "fig.colorbar(pcm_1, ax=ax1, orientation='vertical', fraction=.1)\n",
    "plt.show()\n",
    "\n",
    "#Muon as function of electron\n",
    "\n",
    "fig, ax1 = plt.subplots(1, sharex=True)\n",
    "arr_1,xe_1,ye_1 = np.histogram2d(nrj2[1:][(dt2<dt_max) & (nrj2[:-1]<0.25e6) & (nrj2[1:]<0.25e6)],\n",
    "                                 nrj2[:-1][(dt2<dt_max) & (nrj2[:-1]<0.25e6) & (nrj2[1:]<0.25e6)],  \n",
    "                                 bins =(500,100))\n",
    "pcm_1 = ax1.pcolormesh(xe_1, ye_1,arr_1.T, cmap='rainbow', norm=LogNorm(vmin=arr_1.min()+1, vmax=arr_1.max()))\n",
    "ax1.set_xlabel('Second Event Energy\\n[Arbitrary Unit]')\n",
    "ax1.set_ylabel('First Event Energy\\n[Arbitrary Unit]')\n",
    "ax1.set_title('2D Histogram\\nFirst Event Energy as Function of Second Event Energy')\n",
    "ax1.grid()\n",
    "ax1.plot(np.linspace(1000, 250000, 10000),np.linspace(1000,250000, 10000),c='r')\n",
    "ax1.set_xscale(\"log\")\n",
    "fig.colorbar(pcm_1, ax=ax1, orientation='vertical', fraction=.1)\n",
    "plt.show()                                                                                                                                                                                                                                                                                                                                                                                                                                                                                                                                                                                                                                                                                                                                                                                                                                                                                                                                                                                                                                                                                                                                                                                                                                                                                                                                                                                                                                                                                                                                                                                                                                                                                                                                                                                                                                                                                                                                                                                                                                                                                                                                                                                                                                                                                                                                                                                                                                                                                                                                                                                                                                                                                                                                                                                                                                                                                                                                                                                                                                                                                                                                                                                                                                                                                                                                                                                                                                                                                                                                                                                                                                                                                                                                                                                                                                                                                                                                                                                                                                                                                                                                                                                                                                                                                                                                                                                                        "
   ]
  },
  {
   "cell_type": "code",
   "execution_count": 26,
   "metadata": {},
   "outputs": [],
   "source": [
    "#After correlation, cut on dt and cut on electron/muon energy\n",
    "\n",
    "mask = nrj2[1:][(dt2<dt_max) & (nrj2[:-1]<0.25e6) & (nrj2[1:]<0.25e6)] < nrj2[:-1][(dt2<dt_max) & (nrj2[:-1]<0.25e6) & (nrj2[1:]<0.25e6)]\n",
    "\n",
    "#Muon as function of electron\n",
    "\n",
    "fig, ax1 = plt.subplots(1, sharex=True)\n",
    "arr_1,xe_1,ye_1 = np.histogram2d(nrj2[1:][(dt2<dt_max) & (nrj2[:-1]<0.25e6) & (nrj2[1:]<0.25e6)][mask],\n",
    "                                 nrj2[:-1][(dt2<dt_max) & (nrj2[:-1]<0.25e6) & (nrj2[1:]<0.25e6)][mask],  \n",
    "                                 bins =(500,100))\n",
    "pcm_1 = ax1.pcolormesh(xe_1, ye_1,arr_1.T, cmap='rainbow', norm=LogNorm(vmin=arr_1.min()+1, vmax=arr_1.max()))\n",
    "ax1.set_xlabel('Second Event Energy\\n[Arbitrary Unit]')\n",
    "ax1.set_ylabel('First Event Energy\\n[Arbitrary Unit]')\n",
    "ax1.set_title('2D Histogram\\nFirst Event Energy as Function of Second Event Energy')\n",
    "ax1.grid()\n",
    "ax1.plot(np.linspace(1000, 250000, 10000),np.linspace(1000,250000, 10000),c='r')\n",
    "ax1.set_xscale(\"log\")\n",
    "fig.colorbar(pcm_1, ax=ax1, orientation='vertical', fraction=.1)\n",
    "plt.show()\n",
    "\n",
    "#Muon and electron energy\n",
    "plt.figure()\n",
    "plt.hist(nrj2[1:][(dt2<dt_max) & (nrj2[:-1]<0.25e6) & (nrj2[1:]<0.25e6)][mask], bins=150, label=\"Second Event\", alpha = 0.5)\n",
    "#plt.hist(nrj2[:-1][(dt2<dt_max) & (nrj2[:-1]<0.25e6) & (nrj2[1:]<0.25e6)][mask], bins=150, label=\"First Event\", alpha = 0.5)\n",
    "#plt.hist(nrj2[(nrj2<nrj_max) & (np.append(dt2, np.nan)<dt_max)], bins=150, label=\"First Event\", alpha = 0.5)\n",
    "#plt.hist(nrj2[(nrj2<nrj_max) & (np.insert(dt2, 0, np.nan)<dt_max)], bins=150, label=\"Second Event\", alpha = 0.5)\n",
    "plt.xlabel('Energy [Arbitraty Unit]')\n",
    "plt.ylabel('Occurrences')\n",
    "plt.legend()\n",
    "plt.grid()\n",
    "plt.show()\n",
    "\n",
    "#Electron as function of dt\n",
    "fig, ax1 = plt.subplots(1, sharex=True)\n",
    "arr_1,xe_1,ye_1 = np.histogram2d(dt2[(dt2<dt_max) & (nrj2[:-1]<0.25e6) & (nrj2[1:]<0.25e6)][mask], \n",
    "                                 nrj2[1:][(dt2<dt_max) & (nrj2[:-1]<0.25e6) & (nrj2[1:]<0.25e6)][mask],\n",
    "                                 bins =(500,100))\n",
    "pcm_1 = ax1.pcolormesh(xe_1, ye_1,arr_1.T, cmap='rainbow', norm=LogNorm(vmin=arr_1.min()+1, vmax=arr_1.max()))\n",
    "ax1.set_xlabel('$\\Delta t$ [µs]')\n",
    "ax1.set_ylabel('Second Event Energy\\n[Arbitrary Unit]')\n",
    "ax1.set_title('2D Histogram\\nSecond Event Energy as function of $\\Delta t$')\n",
    "ax1.grid()\n",
    "fig.colorbar(pcm_1, ax=ax1, orientation='vertical', fraction=.1)\n",
    "plt.show()\n",
    "\n",
    "#Muon as function of dt\n",
    "fig, ax1 = plt.subplots(1, sharex=True)\n",
    "arr_1,xe_1,ye_1 = np.histogram2d(dt2[(dt2<dt_max) & (nrj2[:-1]<0.25e6) & (nrj2[1:]<0.25e6)][mask], \n",
    "                                 nrj2[:-1][(dt2<dt_max) & (nrj2[:-1]<0.25e6) & (nrj2[1:]<0.25e6)][mask],\n",
    "                                 bins =(500,100))\n",
    "pcm_1 = ax1.pcolormesh(xe_1, ye_1,arr_1.T, cmap='rainbow', norm=LogNorm(vmin=arr_1.min()+1, vmax=arr_1.max()))\n",
    "ax1.set_xlabel('$\\Delta t$ [µs]')\n",
    "ax1.set_ylabel('First Event Energy\\n[Arbitrary Unit]')\n",
    "ax1.set_title('2D Histogram\\nFirst Event Energy as function of $\\Delta t$')\n",
    "ax1.grid()\n",
    "fig.colorbar(pcm_1, ax=ax1, orientation='vertical', fraction=.1)\n",
    "plt.show()"
   ]
  },
  {
   "cell_type": "code",
   "execution_count": 13,
   "metadata": {},
   "outputs": [
    {
     "name": "stdout",
     "output_type": "stream",
     "text": [
      "Number of events acquired with PM2 after correlation cut on dt and energies: 0.082345 million\n",
      "... Fit with one exponential ...\n",
      "chi2 =  0.9213510978212853 +/- 0.1435916317235476\n",
      "\n",
      "\n",
      "... Fit with two exponentials ...\n",
      "chi2 =  0.8395292924120423 +/- 0.14433756729740643\n"
     ]
    },
    {
     "name": "stderr",
     "output_type": "stream",
     "text": [
      "/home/hind/Documents/Cours/Cours M2/TL/BigMuoneXperiment/BigFunctions.py:5: RuntimeWarning: overflow encountered in exp\n",
      "  def exp2(t, N0, lam1, lam2, C) : return N0*np.exp(-lam1*t) + 1.3475*N0*np.exp(-lam2*t) + C\n",
      "/home/hind/Documents/Cours/Cours M2/TL/BigMuoneXperiment/BigFunctions.py:5: RuntimeWarning: overflow encountered in multiply\n",
      "  def exp2(t, N0, lam1, lam2, C) : return N0*np.exp(-lam1*t) + 1.3475*N0*np.exp(-lam2*t) + C\n"
     ]
    }
   ],
   "source": [
    "#dt Analysis \n",
    "\n",
    "dt_max = 20\n",
    "dt = dt2[(dt2<dt_max) & (nrj2[:-1]<0.25e6) & (nrj2[1:]<0.25e6)][mask]\n",
    "print(\"Number of events acquired with PM2 after correlation cut on dt and energies:\", len(dt)/10**6, \"million\")\n",
    "\n",
    "N_bins = 100\n",
    "hist = np.histogram(dt, bins = N_bins)\n",
    "x = hist[1][1:]-(hist[1][1]-hist[1][0])/2\n",
    "y = hist[0]\n",
    "y_err = np.sqrt(y)\n",
    "\n",
    "#Fit----------------------------------------------------\n",
    "\n",
    "#With one exponential\n",
    "popt, cov = curve_fit(BF.exp1, x, y, sigma=y_err, absolute_sigma = True, p0 = np.array([20000, 2, 400]))\n",
    "N0 = popt[0]\n",
    "lam = popt[1]\n",
    "C = popt[2]\n",
    "lam_err = cov[1,1]\n",
    "\n",
    "chi2 = BF.chi2_norm(y, BF.exp1(x, N0, lam, C), y_err, 3)[0]\n",
    "chi2_err = BF.chi2_norm(y, BF.exp1(x, N0, lam, C), y_err, 3)[1]\n",
    "print(\"... Fit with one exponential ...\")\n",
    "print(\"chi2 = \", chi2, '+/-', chi2_err)\n",
    "print('\\n')\n",
    "\n",
    "#With two exponentials\n",
    "popt, cov = curve_fit(BF.exp2, x, y, sigma=y_err, absolute_sigma = True, p0 = np.array([20000, 2, 2, 400]))\n",
    "N0 = popt[0]\n",
    "lam1 = popt[1]\n",
    "lam1_err = cov[1,1]\n",
    "lam2 = popt[2]\n",
    "lam2_err = cov[2,2]\n",
    "CC = popt[3]\n",
    "\n",
    "chi2 = BF.chi2_norm(y, BF.exp2(x, N0, lam1, lam2, CC), y_err, 4)[0]\n",
    "chi2_err = BF.chi2_norm(y, BF.exp2(x, N0, lam1, lam2, CC), y_err, 4)[1]\n",
    "print(\"... Fit with two exponentials ...\")\n",
    "print(\"chi2 = \", chi2, '+/-', chi2_err)\n",
    "\n",
    "#-------------------------------------------------------\n",
    "\n",
    "plt.figure()\n",
    "plt.hist(dt2[(dt2<dt_max) & (nrj2[:-1]<0.25e6) & (nrj2[1:]<0.25e6)][mask], bins = N_bins, alpha = 0.5)\n",
    "plt.errorbar(x, y, yerr = y_err, linestyle = 'None', fmt='o', capsize=4, c='k', label = 'Data')\n",
    "plt.plot(np.linspace(min(dt), max(dt), 100), BF.exp1(np.linspace(min(dt), max(dt), 100), N0, lam, C), \n",
    "                     label = 'Fit with one exponential')\n",
    "plt.plot(np.linspace(min(dt), max(dt), 100), BF.exp2(np.linspace(min(dt), max(dt), 100), N0, lam1, lam2, CC), \n",
    "                     label = 'Fit with two exponentials')\n",
    "plt.xlabel(\"$\\Delta t$ [µs]\")\n",
    "plt.ylabel(\"Occurrences\")\n",
    "plt.yscale('log')\n",
    "plt.legend()\n",
    "plt.show()"
   ]
  },
  {
   "cell_type": "code",
   "execution_count": 14,
   "metadata": {},
   "outputs": [
    {
     "name": "stdout",
     "output_type": "stream",
     "text": [
      "... Fit with one exponential ...\n",
      "tau =  2.0228443522651443 +/- 2.95613008721786e-05 µs\n",
      "\n",
      "\n",
      "... Fit with two exponentials ...\n",
      "tau1 =  1.613252994185311 +/- 0.0020310659746548684 µs\n",
      "tau2 =  2.2815507447087504 +/- 0.000299287269110054 µs\n"
     ]
    }
   ],
   "source": [
    "tau = 1/lam\n",
    "tau_err = lam_err/lam**2\n",
    "\n",
    "tau1 = 1/lam1\n",
    "tau1_err = lam1_err/lam1**2\n",
    "\n",
    "tau2 = 1/lam2\n",
    "tau2_err = lam2_err/lam2**2\n",
    "\n",
    "print(\"... Fit with one exponential ...\")\n",
    "print('tau = ', tau, '+/-', tau_err, 'µs')\n",
    "print('\\n')\n",
    "print('... Fit with two exponentials ...')\n",
    "print('tau1 = ', tau1, '+/-', tau1_err, 'µs')\n",
    "print('tau2 = ', tau2, '+/-', tau2_err, 'µs')"
   ]
  },
  {
   "cell_type": "code",
   "execution_count": 15,
   "metadata": {},
   "outputs": [
    {
     "name": "stdout",
     "output_type": "stream",
     "text": [
      "... Fit with one exponential ...\n",
      "chi2 =  1.1402428512628409 +/- 0.21821789023599236\n",
      "\n",
      "\n",
      "... Fit with two exponentials ...\n",
      "chi2 =  1.0648136814293978 +/- 0.2208630521496931\n"
     ]
    }
   ],
   "source": [
    "#dt Analysis \n",
    "\n",
    "dt_max = 20\n",
    "dt = dt2[dt2 < dt_max]\n",
    "\n",
    "N_bins = 45\n",
    "hist = np.histogram(dt, bins = N_bins)\n",
    "x = hist[1][1:]-(hist[1][1]-hist[1][0])/2\n",
    "y = hist[0]\n",
    "y_err = np.sqrt(y)\n",
    "\n",
    "#Fit----------------------------------------------------\n",
    "\n",
    "#With one exponential\n",
    "popt, cov = curve_fit(BF.exp1, x, y, sigma=y_err, absolute_sigma = True, p0 = np.array([20000, 2, 400]))\n",
    "N0 = popt[0]\n",
    "lam = popt[1]\n",
    "C = popt[2]\n",
    "lam_err = cov[1,1]\n",
    "\n",
    "chi2 = BF.chi2_norm(y, BF.exp1(x, N0, lam, C), y_err, 3)[0]\n",
    "chi2_err = BF.chi2_norm(y, BF.exp1(x, N0, lam, C), y_err, 3)[1]\n",
    "print(\"... Fit with one exponential ...\")\n",
    "print(\"chi2 = \", chi2, '+/-', chi2_err)\n",
    "print('\\n')\n",
    "\n",
    "#With two exponentials\n",
    "popt, cov = curve_fit(BF.exp2, x, y, sigma=y_err, absolute_sigma = True, p0 = np.array([20000, 2, 2, 400]))\n",
    "N0 = popt[0]\n",
    "lam1 = popt[1]\n",
    "lam1_err = cov[1,1]\n",
    "lam2 = popt[2]\n",
    "lam2_err = cov[2,2]\n",
    "CC = popt[3]\n",
    "\n",
    "chi2 = BF.chi2_norm(y, BF.exp2(x, N0, lam1, lam2, CC), y_err, 4)[0]\n",
    "chi2_err = BF.chi2_norm(y, BF.exp2(x, N0, lam1, lam2, CC), y_err, 4)[1]\n",
    "print(\"... Fit with two exponentials ...\")\n",
    "print(\"chi2 = \", chi2, '+/-', chi2_err)\n",
    "\n",
    "#-------------------------------------------------------\n",
    "\n",
    "plt.figure()\n",
    "plt.hist(dt2[dt2 < dt_max], bins = N_bins, alpha = 0.5)\n",
    "plt.errorbar(x, y, yerr = y_err, linestyle = 'None', fmt='o', capsize=4, c='k', label = 'Data')\n",
    "plt.plot(np.linspace(min(dt), max(dt), 100), BF.exp1(np.linspace(min(dt), max(dt), 100), N0, lam, C), \n",
    "                     label = 'Fit with one exponential')\n",
    "plt.plot(np.linspace(min(dt), max(dt), 100), BF.exp2(np.linspace(min(dt), max(dt), 100), N0, lam1, lam2, CC), \n",
    "                     label = 'Fit with two exponentials')\n",
    "plt.xlabel(\"$\\Delta t$ [µs]\")\n",
    "plt.ylabel(\"Occurrences\")\n",
    "plt.yscale('log')\n",
    "plt.legend()\n",
    "plt.show()"
   ]
  },
  {
   "cell_type": "code",
   "execution_count": 16,
   "metadata": {},
   "outputs": [
    {
     "name": "stdout",
     "output_type": "stream",
     "text": [
      "... Fit with one exponential ...\n",
      "tau =  2.032800984498693 +/- 1.882290381447346e-05 µs\n",
      "\n",
      "\n",
      "... Fit with two exponentials ...\n",
      "tau1 =  2.3120490744600186 +/- 0.0007970524952133977 µs\n",
      "tau2 =  1.804325308957612 +/- 0.0010553535888393655 µs\n"
     ]
    }
   ],
   "source": [
    "tau = 1/lam\n",
    "tau_err = lam_err/lam**2\n",
    "\n",
    "tau1 = 1/lam1\n",
    "tau1_err = lam1_err/lam1**2\n",
    "\n",
    "tau2 = 1/lam2\n",
    "tau2_err = lam2_err/lam2**2\n",
    "\n",
    "print(\"... Fit with one exponential ...\")\n",
    "print('tau = ', tau, '+/-', tau_err, 'µs')\n",
    "print('\\n')\n",
    "print('... Fit with two exponentials ...')\n",
    "print('tau1 = ', tau1, '+/-', tau1_err, 'µs')\n",
    "print('tau2 = ', tau2, '+/-', tau2_err, 'µs')"
   ]
  },
  {
   "cell_type": "code",
   "execution_count": 17,
   "metadata": {},
   "outputs": [],
   "source": [
    "#chi2\n",
    "\n",
    "plt.figure()\n",
    "N_bins = np.array(range(10,301))\n",
    "chi2_lst = []\n",
    "\n",
    "for n in N_bins :\n",
    "    hist = np.histogram(dt, bins = n)\n",
    "    x = hist[1][1:]-(hist[1][1]-hist[1][0])/2\n",
    "    y = hist[0]\n",
    "    y_err = np.sqrt(y)\n",
    "\n",
    "    popt, cov = curve_fit(BF.exp2, x, y, sigma=y_err, absolute_sigma = True, p0 = np.array([20000, 2, 2, 400]))\n",
    "    N0 = popt[0]\n",
    "    lam1 = popt[1]\n",
    "    lam2 = popt[2]\n",
    "    CC = popt[3]\n",
    "\n",
    "    chi2 = BF.chi2_norm(y, BF.exp2(x, N0, lam1, lam2, CC), y_err, 4)[0]\n",
    "    chi2_err = BF.chi2_norm(y, BF.exp2(x, N0, lam1, lam2, CC), y_err, 4)[1]\n",
    "\n",
    "    chi2_lst.append(chi2)\n",
    "\n",
    "    plt.errorbar(n, chi2, yerr = chi2_err, linestyle = 'None', fmt='o', capsize=4, c='k')\n",
    "    plt.scatter(n, chi2, c='k')\n",
    "\n",
    "plt.xlabel(\"Number of bins\")\n",
    "plt.ylabel(\"Reduced $\\chi^2$\")\n",
    "plt.show()\n",
    "    "
   ]
  },
  {
   "cell_type": "code",
   "execution_count": 18,
   "metadata": {},
   "outputs": [
    {
     "name": "stdout",
     "output_type": "stream",
     "text": [
      "1.004758666693851\n",
      "[[43]]\n",
      "1.0648136814293978\n",
      "45\n"
     ]
    }
   ],
   "source": [
    "chi2_lst = np.array(chi2_lst)\n",
    "print(min(np.abs(1-chi2_lst))+1)\n",
    "\n",
    "print(np.argwhere(chi2_lst == min(np.abs(1-chi2_lst))+1))\n",
    "\n",
    "print(chi2_lst[35])\n",
    "print(N_bins[35])"
   ]
  }
 ],
 "metadata": {
  "kernelspec": {
   "display_name": "Python 3",
   "language": "python",
   "name": "python3"
  },
  "language_info": {
   "codemirror_mode": {
    "name": "ipython",
    "version": 3
   },
   "file_extension": ".py",
   "mimetype": "text/x-python",
   "name": "python",
   "nbconvert_exporter": "python",
   "pygments_lexer": "ipython3",
   "version": "3.10.12"
  }
 },
 "nbformat": 4,
 "nbformat_minor": 2
}
